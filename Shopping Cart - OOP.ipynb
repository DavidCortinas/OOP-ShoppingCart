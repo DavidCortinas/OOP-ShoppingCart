{
 "cells": [
  {
   "cell_type": "code",
   "execution_count": 1,
   "metadata": {},
   "outputs": [
    {
     "ename": "SyntaxError",
     "evalue": "invalid syntax (<ipython-input-1-7546894cbfbb>, line 60)",
     "output_type": "error",
     "traceback": [
      "\u001b[0;36m  File \u001b[0;32m\"<ipython-input-1-7546894cbfbb>\"\u001b[0;36m, line \u001b[0;32m60\u001b[0m\n\u001b[0;31m    i_num =\u001b[0m\n\u001b[0m            ^\u001b[0m\n\u001b[0;31mSyntaxError\u001b[0m\u001b[0;31m:\u001b[0m invalid syntax\n"
     ]
    }
   ],
   "source": []
  },
  {
   "cell_type": "code",
   "execution_count": 32,
   "metadata": {},
   "outputs": [],
   "source": []
  },
  {
   "cell_type": "code",
   "execution_count": 22,
   "metadata": {},
   "outputs": [
    {
     "data": {
      "text/plain": [
       "[0, 1, 2]"
      ]
     },
     "execution_count": 22,
     "metadata": {},
     "output_type": "execute_result"
    }
   ],
   "source": []
  },
  {
   "cell_type": "code",
   "execution_count": null,
   "metadata": {},
   "outputs": [
    {
     "name": "stdout",
     "output_type": "stream",
     "text": [
      "1. apple - 3 @ 0.78ea. = $2.34 \n",
      "2. avocado - 4 @ 1.67ea. = $6.68 \n",
      "=========================\n",
      "Your total is $ 9.02\n",
      "Type 'show' to see your cart.\n",
      "Type 'clear' to clear out your cart.\n",
      "Type 'cancel' to cancel your order.\n",
      "Type 'pay' to checkout.\n",
      "Type 'remove' to remove an item from your cart.\n"
     ]
    }
   ],
   "source": [
    "from IPython.display import clear_output\n",
    "\n",
    "class Cart:\n",
    "    def __init__(self):\n",
    "        self.total = 0.00\n",
    "        self.items = []\n",
    "        self.sp = 0.00\n",
    "    \n",
    "    def add_item(self):\n",
    "        #Accept input to build shopping list\n",
    "        i_name = input(\"What item would you like to add to your cart? \")\n",
    "        q = input(\"How many \" + i_name + \"(s) would you like to add to your cart? \")\n",
    "        ip = input(\"Enter the price of \" + i_name + \" in dollars to calculate your total at the end. \")\n",
    "        self.sp = float(ip) * float(q)\n",
    "        i_num = len(self.items) + 1\n",
    "        #build the dictionary based on inputs\n",
    "        selection = {\n",
    "            'item_num': i_num,\n",
    "            'item': i_name.lower(),\n",
    "            'qty': q,\n",
    "            'item_price': float(ip),\n",
    "            'selection_price': float(self.sp),\n",
    "        }\n",
    "        \n",
    "        self.items.append(selection)\n",
    "        self.total += self.sp\n",
    "    \n",
    "    def show_items(self):\n",
    "        for dictionary in self.items:\n",
    "            print(f\"{dictionary['item_num']}. {dictionary['item']} - {dictionary['qty']} @ {dictionary['item_price']}ea. = ${dictionary['selection_price']:.2f} \")\n",
    "        print(\"=\" * 25)\n",
    "        \n",
    "    def remove_item(self):\n",
    "        item = input(\"Select the item number for the item that you want to remove. \")\n",
    "        for n in range(len(self.items)-1):\n",
    "             if self.items[n+1]['item_num'] == int(item):\n",
    "                del self.items[n+1]\n",
    "                self.total -= self.sp\n",
    "    \n",
    "    def clear_items(self):\n",
    "        self.items = []\n",
    "        \n",
    "    def checkout(self):\n",
    "        self.show_items()\n",
    "        print(f\"Your total is $ {self.total}\")\n",
    "        done = True\n",
    "    \n",
    "class Item:\n",
    "    def __init__(self, name, price):\n",
    "        self.name = name\n",
    "        self.price = price\n",
    "    \n",
    "class Shopping:\n",
    "    @classmethod\n",
    "    def instructions(self):\n",
    "        print(\"\"\"Type 'show' to see your cart.\n",
    "Type 'clear' to clear out your cart.\n",
    "Type 'cancel' to cancel your order.\n",
    "Type 'pay' to checkout.\n",
    "Type 'remove' to remove an item from your cart.\"\"\")\n",
    "\n",
    "    @classmethod\n",
    "    def run(self):\n",
    "        items = Cart()\n",
    "        done = False \n",
    "        while not done:\n",
    "            self.instructions()\n",
    "            is_shopping = input(\"Welcome to my store! Press 'ENTER' to shop.\").lower()\n",
    "            clear_output()\n",
    "\n",
    "            if is_shopping == 'cancel':\n",
    "                print(\"Have a nice day! Goodbye.\")\n",
    "                done = True\n",
    "\n",
    "            elif is_shopping == 'show':\n",
    "                items.show_items()\n",
    "\n",
    "            elif is_shopping == 'clear':\n",
    "                items.clear_items()\n",
    "                \n",
    "            elif is_shopping == 'remove':\n",
    "                items.show_items()\n",
    "                items.remove_item()\n",
    "\n",
    "            elif is_shopping == 'pay':\n",
    "                items.checkout()\n",
    "\n",
    "            else:\n",
    "                items.add_item()\n",
    "                \n",
    "Shopping.run()"
   ]
  },
  {
   "cell_type": "code",
   "execution_count": null,
   "metadata": {},
   "outputs": [],
   "source": []
  },
  {
   "cell_type": "code",
   "execution_count": null,
   "metadata": {},
   "outputs": [],
   "source": []
  },
  {
   "cell_type": "code",
   "execution_count": null,
   "metadata": {},
   "outputs": [],
   "source": []
  }
 ],
 "metadata": {
  "kernelspec": {
   "display_name": "Python 3",
   "language": "python",
   "name": "python3"
  },
  "language_info": {
   "codemirror_mode": {
    "name": "ipython",
    "version": 3
   },
   "file_extension": ".py",
   "mimetype": "text/x-python",
   "name": "python",
   "nbconvert_exporter": "python",
   "pygments_lexer": "ipython3",
   "version": "3.8.5"
  }
 },
 "nbformat": 4,
 "nbformat_minor": 4
}
